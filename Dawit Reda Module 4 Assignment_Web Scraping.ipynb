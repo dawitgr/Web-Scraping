{
 "cells": [
  {
   "cell_type": "markdown",
   "metadata": {},
   "source": [
    "Dawit Reda\n",
    "ID#10189420\n",
    "Module 4 Web Scraping and APIs\n",
    "MCIS 535 - Data Access and Transformation\n",
    "Submitted to Dr. Daniel Wu"
   ]
  },
  {
   "cell_type": "markdown",
   "metadata": {},
   "source": [
    "# Requirements"
   ]
  },
  {
   "cell_type": "markdown",
   "metadata": {},
   "source": [
    "Write a Python program using mwviews API, BeautifulSoup, and other proper libraries to scrap web pages. The requirements are:\n",
    "Scrap this web page to extract names of mathematicians listed on the web page.\n",
    "Use the names extracted in step one and mwviews API to extract page hits from Wikimedia for each of the mathematicians.\n",
    "Output the top 10 most popular mathematicians sorted by their Wikipedia page views count. You should also print out the number of mathematicians who has no entry in Wikipedia (as returned by mwviews API).\n",
    "A sample output should look like this:\n",
    "\n",
    "The Top 10 most popular mathematicians are:\n",
    "\n",
    "Albert Einstein with 1089161 pageviews\n",
    "Isaac Newton with 476031 pageviews\n",
    "Aristotle with 343886 pageviews\n",
    "Galileo Galilei with 330647 pageviews\n",
    "Srinivasa Ramanujan with 305363 pageviews\n",
    "René Descartes with 178436 pageviews\n",
    "Archimedes with 146908 pageviews\n",
    "Aryabhata with 139193 pageviews\n",
    "John von Neumann with 134736 pageviews\n",
    "Leonhard Euler with 101812 pageviews\n",
    "\n",
    "But I cannot find results for 28 mathematicians on the lis\n",
    "\n",
    "Here is the information how you can use mwviews API: https://github.com/mediawiki-utilities/python-mwviews."
   ]
  },
  {
   "cell_type": "code",
   "execution_count": 2,
   "metadata": {},
   "outputs": [],
   "source": [
    "#import all important libraries \n",
    "import pandas as pd\n",
    "import requests\n",
    "import urllib.request\n",
    "import time\n",
    "import csv\n",
    "from requests import get\n",
    "from contextlib import closing\n",
    "from bs4 import BeautifulSoup\n",
    "import itertools  \n",
    "import numpy as np\n",
    "from mwviews.api import PageviewsClient\n",
    "import pageviewapi\n",
    "import re\n",
    "from tabulate import tabulate"
   ]
  },
  {
   "cell_type": "code",
   "execution_count": 3,
   "metadata": {},
   "outputs": [
    {
     "name": "stdout",
     "output_type": "stream",
     "text": [
      "Success!\n"
     ]
    }
   ],
   "source": [
    "#let's check the status of the get request\n",
    "def get_Status_Code():\n",
    "    url = 'http://www.fabpedigree.com/james/mathmen.htm'\n",
    "    response = requests.get(url)\n",
    "    #check the Status Codes\n",
    "    if response:\n",
    "        print('Success!')\n",
    "    else:\n",
    "        print('An error has occurred when the http request')\n",
    "\n",
    "get_Status_Code()"
   ]
  },
  {
   "cell_type": "code",
   "execution_count": 4,
   "metadata": {},
   "outputs": [],
   "source": [
    "#let's get the content of the web - using response.content or to convert the data into UTF-8 we can use .text as below\n",
    "def get_requests(url):\n",
    "    response = requests.get(url)\n",
    "    return response.content\n",
    "\n",
    "#let's pass the url of the Mathematicians to the function and get the content request \n",
    "url_Mathematicians = 'http://www.fabpedigree.com/james/mathmen.htm'\n",
    "#get_requests(url_Mathematicians)"
   ]
  },
  {
   "cell_type": "code",
   "execution_count": 5,
   "metadata": {},
   "outputs": [
    {
     "name": "stdout",
     "output_type": "stream",
     "text": [
      "Total number of Mathematicians from the page:  100\n"
     ]
    },
    {
     "data": {
      "text/plain": [
       "['Isaac Newton',\n",
       " 'Archimedes',\n",
       " 'Carl F. Gauss',\n",
       " 'Leonhard Euler',\n",
       " 'Bernhard Riemann',\n",
       " 'Henri Poincaré',\n",
       " 'Joseph-Louis Lagrange',\n",
       " 'Euclid',\n",
       " 'David Hilbert',\n",
       " 'Gottfried W. Leibniz']"
      ]
     },
     "execution_count": 5,
     "metadata": {},
     "output_type": "execute_result"
    }
   ],
   "source": [
    "#let's pull the list of Mathematicians and put them in datafram\n",
    "def list_of_Mathematicians():\n",
    "    \n",
    "    page = get_requests(url_Mathematicians)\n",
    "    \n",
    "    soup = BeautifulSoup(page, 'html.parser')\n",
    "\n",
    "    list_Mathematicians=[]\n",
    "    for link in soup.find_all('li'):\n",
    "        name = link.find('a')\n",
    "        list_Mathematicians.append(name.get_text('title'))\n",
    "      \n",
    "    return list_Mathematicians\n",
    "    \n",
    " #let's get the list of  Mathematicians and length of the lists\n",
    "print('Total number of Mathematicians from the page: ',len(list_of_Mathematicians()))\n",
    "list_of_Mathematicians()[:10]\n",
    "#list_of_Mathematicians().to_csv(r'Desktop\\MathNames.csv')"
   ]
  },
  {
   "cell_type": "code",
   "execution_count": 6,
   "metadata": {},
   "outputs": [
    {
     "data": {
      "text/plain": [
       "['Isaac_Newton',\n",
       " 'Archimedes',\n",
       " 'Carl_Gauss',\n",
       " 'Leonhard_Euler',\n",
       " 'Bernhard_Riemann',\n",
       " 'Henri_Poincar',\n",
       " 'Joseph_Lagrange',\n",
       " 'Euclid',\n",
       " 'David_Hilbert',\n",
       " 'Gottfried_Leibniz']"
      ]
     },
     "execution_count": 6,
     "metadata": {},
     "output_type": "execute_result"
    }
   ],
   "source": [
    "#get the full name of the Mathematicians with first name and last name concatinated with underscore\n",
    "#Example:Isaac Newton will be Isaac_Newton \n",
    "def Mathematicians_full_name():\n",
    "    Mathematicians = list_of_Mathematicians()\n",
    "    first_and_last=[]\n",
    "    list_of_math = [re.sub(r\"[^a-zA-Z0-9]+\", ' ', x) for x in Mathematicians]\n",
    "    for i in range(len(Mathematicians)):\n",
    "        Mathematicians_name =list_of_math[i]\n",
    "        lists = Mathematicians_name.split()\n",
    "        first_name =lists[0]\n",
    "        last_name =lists[-1]\n",
    "        if first_name==last_name:\n",
    "            full_name=first_name\n",
    "        else:\n",
    "            full_name=first_name+'_'+last_name\n",
    "        first_and_last.append(full_name)\n",
    "    return first_and_last\n",
    " #let's check the ten Mathematicians full name\n",
    "Mathematicians_full_name()[:10]"
   ]
  },
  {
   "cell_type": "markdown",
   "metadata": {},
   "source": [
    "Use the names extracted in step one and mwviews API to extract page hits from Wikimedia for each of the mathematicians."
   ]
  },
  {
   "cell_type": "code",
   "execution_count": 7,
   "metadata": {},
   "outputs": [
    {
     "data": {
      "text/html": [
       "<div>\n",
       "<style scoped>\n",
       "    .dataframe tbody tr th:only-of-type {\n",
       "        vertical-align: middle;\n",
       "    }\n",
       "\n",
       "    .dataframe tbody tr th {\n",
       "        vertical-align: top;\n",
       "    }\n",
       "\n",
       "    .dataframe thead th {\n",
       "        text-align: right;\n",
       "    }\n",
       "</style>\n",
       "<table border=\"1\" class=\"dataframe\">\n",
       "  <thead>\n",
       "    <tr style=\"text-align: right;\">\n",
       "      <th></th>\n",
       "      <th>Mathematicians Name</th>\n",
       "      <th>Number of View</th>\n",
       "    </tr>\n",
       "  </thead>\n",
       "  <tbody>\n",
       "    <tr>\n",
       "      <th>0</th>\n",
       "      <td>Albert Einstein</td>\n",
       "      <td>30924167</td>\n",
       "    </tr>\n",
       "    <tr>\n",
       "      <th>1</th>\n",
       "      <td>Isaac Newton</td>\n",
       "      <td>15123943</td>\n",
       "    </tr>\n",
       "    <tr>\n",
       "      <th>2</th>\n",
       "      <td>Srinivasa Ramanujan</td>\n",
       "      <td>12599757</td>\n",
       "    </tr>\n",
       "    <tr>\n",
       "      <th>3</th>\n",
       "      <td>Aristotle</td>\n",
       "      <td>10130664</td>\n",
       "    </tr>\n",
       "    <tr>\n",
       "      <th>4</th>\n",
       "      <td>Galileo Galilei</td>\n",
       "      <td>9702939</td>\n",
       "    </tr>\n",
       "    <tr>\n",
       "      <th>5</th>\n",
       "      <td>René Descartes</td>\n",
       "      <td>5244102</td>\n",
       "    </tr>\n",
       "    <tr>\n",
       "      <th>6</th>\n",
       "      <td>Pythagoras</td>\n",
       "      <td>4950907</td>\n",
       "    </tr>\n",
       "    <tr>\n",
       "      <th>7</th>\n",
       "      <td>Aryabhata</td>\n",
       "      <td>4867755</td>\n",
       "    </tr>\n",
       "    <tr>\n",
       "      <th>8</th>\n",
       "      <td>Archimedes</td>\n",
       "      <td>4560860</td>\n",
       "    </tr>\n",
       "    <tr>\n",
       "      <th>9</th>\n",
       "      <td>John von Neumann</td>\n",
       "      <td>3798992</td>\n",
       "    </tr>\n",
       "  </tbody>\n",
       "</table>\n",
       "</div>"
      ],
      "text/plain": [
       "   Mathematicians Name  Number of View\n",
       "0      Albert Einstein        30924167\n",
       "1         Isaac Newton        15123943\n",
       "2  Srinivasa Ramanujan        12599757\n",
       "3            Aristotle        10130664\n",
       "4      Galileo Galilei         9702939\n",
       "5       René Descartes         5244102\n",
       "6           Pythagoras         4950907\n",
       "7            Aryabhata         4867755\n",
       "8           Archimedes         4560860\n",
       "9     John von Neumann         3798992"
      ]
     },
     "execution_count": 7,
     "metadata": {},
     "output_type": "execute_result"
    }
   ],
   "source": [
    "def Top_10_most_popular_mathematicians():\n",
    "    import operator\n",
    "    Mathematicians = list_of_Mathematicians()\n",
    "    \n",
    "    p = PageviewsClient(user_agent='')\n",
    "    #let's pull the last ten years page hit record for all Mathematicians listed above\n",
    "    page_views = p.article_views(\"en.wikipedia\", Mathematicians,  start=\"19990724\", end=\"20190725\")\n",
    "    \n",
    "    #create a dictionary to store the view hit of each Mathematicians\n",
    "    dict_name_view = {mathematicians: 0 for mathematicians in Mathematicians }\n",
    "    #loop over the page views result \n",
    "    for key in page_views.keys():\n",
    "        for Mathematicians_key in page_views[key].keys():\n",
    "            #concatinate first and last name of the mathematicians\n",
    "            Mathematicians_Full_Name = Mathematicians_key.replace(\"_\", \" \")\n",
    "            if page_views[key][Mathematicians_key]:\n",
    "                dict_name_view[Mathematicians_Full_Name] += page_views[key][Mathematicians_key]\n",
    "                \n",
    "\n",
    "    #let's sort the result with the value of the dict\n",
    "    sorted_Final_result = [(k, dict_name_view[k]) for k in sorted(dict_name_view, key=dict_name_view.get, reverse=True)]\n",
    "    \n",
    "    #convert the result into a dataframe\n",
    "    df = pd.DataFrame.from_dict(sorted_Final_result)\n",
    "    df.rename(columns={0:'Mathematicians Name',1:'Number of View'}, inplace=True)\n",
    "    \n",
    "    return df\n",
    "    \n",
    "Top_10_most_popular_mathematicians().head(10)    "
   ]
  },
  {
   "cell_type": "code",
   "execution_count": 8,
   "metadata": {},
   "outputs": [
    {
     "name": "stdout",
     "output_type": "stream",
     "text": [
      "\n",
      "The Top 10 most popular mathematicians are:\n",
      "\n",
      "Albert Einstein  with  30924167  pageviews\n",
      "Isaac Newton  with  15123943  pageviews\n",
      "Srinivasa Ramanujan  with  12599757  pageviews\n",
      "Aristotle  with  10130664  pageviews\n",
      "Galileo Galilei  with  9702939  pageviews\n",
      "René Descartes  with  5244102  pageviews\n",
      "Pythagoras  with  4950907  pageviews\n",
      "Aryabhata  with  4867755  pageviews\n",
      "Archimedes  with  4560860  pageviews\n",
      "John von Neumann  with  3798992  pageviews\n",
      "\n",
      "But I cannot find results for 18 mathematicians on the list\n"
     ]
    }
   ],
   "source": [
    "#print out The Top 10 most popular mathematicians for the last ten years are:\n",
    "def Final_output():\n",
    "    df = Top_10_most_popular_mathematicians()\n",
    "    print('\\nThe Top 10 most popular mathematicians are:\\n')\n",
    "    for a in df[:10].index:\n",
    "        print(df['Mathematicians Name'][a],' with ', df['Number of View'][a],' pageviews') \n",
    "    #let's add for the mathematicians with zero views by iterating in each rows of the mathematicians\n",
    "    zero_views_result= df[df['Number of View'] == 0]\n",
    "    print('\\nBut I cannot find results for' , len(zero_views_result), 'mathematicians on the list')    \n",
    "\n",
    "Final_output()        "
   ]
  },
  {
   "cell_type": "markdown",
   "metadata": {},
   "source": [
    "### Reference"
   ]
  },
  {
   "cell_type": "markdown",
   "metadata": {},
   "source": [
    "1. https://wikitech.wikimedia.org/wiki/Analytics/AQS/Pageviews\n",
    "2. https://github.com/mediawiki-utilities/python-mwviews\n",
    "3. http://www.fabpedigree.com/james/mathmen.htm"
   ]
  }
 ],
 "metadata": {
  "kernelspec": {
   "display_name": "Python 3",
   "language": "python",
   "name": "python3"
  },
  "language_info": {
   "codemirror_mode": {
    "name": "ipython",
    "version": 3
   },
   "file_extension": ".py",
   "mimetype": "text/x-python",
   "name": "python",
   "nbconvert_exporter": "python",
   "pygments_lexer": "ipython3",
   "version": "3.7.1"
  }
 },
 "nbformat": 4,
 "nbformat_minor": 2
}
